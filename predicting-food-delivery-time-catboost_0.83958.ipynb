{
 "cells": [
  {
   "cell_type": "markdown",
   "metadata": {},
   "source": [
    "# Import libraries"
   ]
  },
  {
   "cell_type": "code",
   "execution_count": 1,
   "metadata": {},
   "outputs": [],
   "source": [
    "import re\n",
    "import pandas as pd\n",
    "import numpy as np\n",
    "import seaborn as sns\n",
    "import matplotlib.pyplot as plt\n",
    "import warnings\n",
    "warnings.filterwarnings('ignore')"
   ]
  },
  {
   "cell_type": "code",
   "execution_count": 2,
   "metadata": {},
   "outputs": [],
   "source": [
    "pd.set_option('display.max_rows', 500)\n",
    "pd.set_option('display.max_columns', 500)\n",
    "pd.set_option('display.width', 1000)"
   ]
  },
  {
   "cell_type": "markdown",
   "metadata": {},
   "source": [
    "# Import datasets"
   ]
  },
  {
   "cell_type": "code",
   "execution_count": 3,
   "metadata": {},
   "outputs": [],
   "source": [
    "train = pd.read_excel('/kaggle/input/predict-food-delivery-time/Data_Train.xlsx')\n",
    "test = pd.read_excel('/kaggle/input/predict-food-delivery-time/Data_Test.xlsx')"
   ]
  },
  {
   "cell_type": "code",
   "execution_count": 4,
   "metadata": {},
   "outputs": [
    {
     "data": {
      "text/plain": [
       "((11094, 9), (2774, 8))"
      ]
     },
     "execution_count": 4,
     "metadata": {},
     "output_type": "execute_result"
    }
   ],
   "source": [
    "train.shape, test.shape"
   ]
  },
  {
   "cell_type": "markdown",
   "metadata": {},
   "source": [
    "# Data exploration"
   ]
  },
  {
   "cell_type": "code",
   "execution_count": 5,
   "metadata": {},
   "outputs": [
    {
     "data": {
      "text/plain": [
       "(0, 0)"
      ]
     },
     "execution_count": 5,
     "metadata": {},
     "output_type": "execute_result"
    }
   ],
   "source": [
    "train.duplicated().sum(), test.duplicated().sum()"
   ]
  },
  {
   "cell_type": "code",
   "execution_count": 6,
   "metadata": {},
   "outputs": [
    {
     "data": {
      "text/html": [
       "<div>\n",
       "<style scoped>\n",
       "    .dataframe tbody tr th:only-of-type {\n",
       "        vertical-align: middle;\n",
       "    }\n",
       "\n",
       "    .dataframe tbody tr th {\n",
       "        vertical-align: top;\n",
       "    }\n",
       "\n",
       "    .dataframe thead th {\n",
       "        text-align: right;\n",
       "    }\n",
       "</style>\n",
       "<table border=\"1\" class=\"dataframe\">\n",
       "  <thead>\n",
       "    <tr style=\"text-align: right;\">\n",
       "      <th></th>\n",
       "      <th>Restaurant</th>\n",
       "      <th>Location</th>\n",
       "      <th>Cuisines</th>\n",
       "      <th>Average_Cost</th>\n",
       "      <th>Minimum_Order</th>\n",
       "      <th>Rating</th>\n",
       "      <th>Votes</th>\n",
       "      <th>Reviews</th>\n",
       "      <th>Delivery_Time</th>\n",
       "    </tr>\n",
       "  </thead>\n",
       "  <tbody>\n",
       "    <tr>\n",
       "      <th>0</th>\n",
       "      <td>ID_6321</td>\n",
       "      <td>FTI College, Law College Road, Pune</td>\n",
       "      <td>Fast Food, Rolls, Burger, Salad, Wraps</td>\n",
       "      <td>₹200</td>\n",
       "      <td>₹50</td>\n",
       "      <td>3.5</td>\n",
       "      <td>12</td>\n",
       "      <td>4</td>\n",
       "      <td>30 minutes</td>\n",
       "    </tr>\n",
       "    <tr>\n",
       "      <th>1</th>\n",
       "      <td>ID_2882</td>\n",
       "      <td>Sector 3, Marathalli</td>\n",
       "      <td>Ice Cream, Desserts</td>\n",
       "      <td>₹100</td>\n",
       "      <td>₹50</td>\n",
       "      <td>3.5</td>\n",
       "      <td>11</td>\n",
       "      <td>4</td>\n",
       "      <td>30 minutes</td>\n",
       "    </tr>\n",
       "    <tr>\n",
       "      <th>2</th>\n",
       "      <td>ID_1595</td>\n",
       "      <td>Mumbai Central</td>\n",
       "      <td>Italian, Street Food, Fast Food</td>\n",
       "      <td>₹150</td>\n",
       "      <td>₹50</td>\n",
       "      <td>3.6</td>\n",
       "      <td>99</td>\n",
       "      <td>30</td>\n",
       "      <td>65 minutes</td>\n",
       "    </tr>\n",
       "    <tr>\n",
       "      <th>3</th>\n",
       "      <td>ID_5929</td>\n",
       "      <td>Sector 1, Noida</td>\n",
       "      <td>Mughlai, North Indian, Chinese</td>\n",
       "      <td>₹250</td>\n",
       "      <td>₹99</td>\n",
       "      <td>3.7</td>\n",
       "      <td>176</td>\n",
       "      <td>95</td>\n",
       "      <td>30 minutes</td>\n",
       "    </tr>\n",
       "    <tr>\n",
       "      <th>4</th>\n",
       "      <td>ID_6123</td>\n",
       "      <td>Rmz Centennial, I Gate, Whitefield</td>\n",
       "      <td>Cafe, Beverages</td>\n",
       "      <td>₹200</td>\n",
       "      <td>₹99</td>\n",
       "      <td>3.2</td>\n",
       "      <td>521</td>\n",
       "      <td>235</td>\n",
       "      <td>65 minutes</td>\n",
       "    </tr>\n",
       "  </tbody>\n",
       "</table>\n",
       "</div>"
      ],
      "text/plain": [
       "  Restaurant                             Location                                Cuisines Average_Cost Minimum_Order Rating Votes Reviews Delivery_Time\n",
       "0    ID_6321  FTI College, Law College Road, Pune  Fast Food, Rolls, Burger, Salad, Wraps         ₹200           ₹50    3.5    12       4    30 minutes\n",
       "1    ID_2882                 Sector 3, Marathalli                     Ice Cream, Desserts         ₹100           ₹50    3.5    11       4    30 minutes\n",
       "2    ID_1595                       Mumbai Central         Italian, Street Food, Fast Food         ₹150           ₹50    3.6    99      30    65 minutes\n",
       "3    ID_5929                      Sector 1, Noida          Mughlai, North Indian, Chinese         ₹250           ₹99    3.7   176      95    30 minutes\n",
       "4    ID_6123   Rmz Centennial, I Gate, Whitefield                         Cafe, Beverages         ₹200           ₹99    3.2   521     235    65 minutes"
      ]
     },
     "execution_count": 6,
     "metadata": {},
     "output_type": "execute_result"
    }
   ],
   "source": [
    "train.head()"
   ]
  },
  {
   "cell_type": "code",
   "execution_count": 7,
   "metadata": {},
   "outputs": [
    {
     "name": "stdout",
     "output_type": "stream",
     "text": [
      "<class 'pandas.core.frame.DataFrame'>\n",
      "RangeIndex: 11094 entries, 0 to 11093\n",
      "Data columns (total 9 columns):\n",
      "Restaurant       11094 non-null object\n",
      "Location         11094 non-null object\n",
      "Cuisines         11094 non-null object\n",
      "Average_Cost     11094 non-null object\n",
      "Minimum_Order    11094 non-null object\n",
      "Rating           11094 non-null object\n",
      "Votes            11094 non-null object\n",
      "Reviews          11094 non-null object\n",
      "Delivery_Time    11094 non-null object\n",
      "dtypes: object(9)\n",
      "memory usage: 780.2+ KB\n"
     ]
    }
   ],
   "source": [
    "train.info()"
   ]
  },
  {
   "cell_type": "code",
   "execution_count": 8,
   "metadata": {},
   "outputs": [
    {
     "data": {
      "text/plain": [
       "Restaurant       7480\n",
       "Location           35\n",
       "Cuisines         2179\n",
       "Average_Cost       26\n",
       "Minimum_Order      18\n",
       "Rating             33\n",
       "Votes            1103\n",
       "Reviews           761\n",
       "Delivery_Time       7\n",
       "dtype: int64"
      ]
     },
     "execution_count": 8,
     "metadata": {},
     "output_type": "execute_result"
    }
   ],
   "source": [
    "train.nunique()"
   ]
  },
  {
   "cell_type": "markdown",
   "metadata": {},
   "source": [
    "# Data pre-processing"
   ]
  },
  {
   "cell_type": "code",
   "execution_count": 9,
   "metadata": {},
   "outputs": [
    {
     "data": {
      "text/plain": [
       "(11090, 9)"
      ]
     },
     "execution_count": 9,
     "metadata": {},
     "output_type": "execute_result"
    }
   ],
   "source": [
    "train = train[train['Delivery_Time'] != '10 minutes']\n",
    "train.shape"
   ]
  },
  {
   "cell_type": "code",
   "execution_count": 10,
   "metadata": {},
   "outputs": [
    {
     "data": {
      "text/plain": [
       "(13864, 9)"
      ]
     },
     "execution_count": 10,
     "metadata": {},
     "output_type": "execute_result"
    }
   ],
   "source": [
    "df = train.append(test,ignore_index=True, sort=False)\n",
    "df.shape"
   ]
  },
  {
   "cell_type": "code",
   "execution_count": 11,
   "metadata": {},
   "outputs": [
    {
     "data": {
      "text/html": [
       "<div>\n",
       "<style scoped>\n",
       "    .dataframe tbody tr th:only-of-type {\n",
       "        vertical-align: middle;\n",
       "    }\n",
       "\n",
       "    .dataframe tbody tr th {\n",
       "        vertical-align: top;\n",
       "    }\n",
       "\n",
       "    .dataframe thead th {\n",
       "        text-align: right;\n",
       "    }\n",
       "</style>\n",
       "<table border=\"1\" class=\"dataframe\">\n",
       "  <thead>\n",
       "    <tr style=\"text-align: right;\">\n",
       "      <th></th>\n",
       "      <th>Restaurant</th>\n",
       "      <th>Location</th>\n",
       "      <th>Cuisines</th>\n",
       "      <th>Average_Cost</th>\n",
       "      <th>Minimum_Order</th>\n",
       "      <th>Rating</th>\n",
       "      <th>Votes</th>\n",
       "      <th>Reviews</th>\n",
       "      <th>Delivery_Time</th>\n",
       "    </tr>\n",
       "  </thead>\n",
       "  <tbody>\n",
       "    <tr>\n",
       "      <th>0</th>\n",
       "      <td>ID_6321</td>\n",
       "      <td>FTI College, Law College Road, Pune</td>\n",
       "      <td>Fast Food, Rolls, Burger, Salad, Wraps</td>\n",
       "      <td>₹200</td>\n",
       "      <td>₹50</td>\n",
       "      <td>3.5</td>\n",
       "      <td>12</td>\n",
       "      <td>4</td>\n",
       "      <td>30 minutes</td>\n",
       "    </tr>\n",
       "    <tr>\n",
       "      <th>1</th>\n",
       "      <td>ID_2882</td>\n",
       "      <td>Sector 3, Marathalli</td>\n",
       "      <td>Ice Cream, Desserts</td>\n",
       "      <td>₹100</td>\n",
       "      <td>₹50</td>\n",
       "      <td>3.5</td>\n",
       "      <td>11</td>\n",
       "      <td>4</td>\n",
       "      <td>30 minutes</td>\n",
       "    </tr>\n",
       "  </tbody>\n",
       "</table>\n",
       "</div>"
      ],
      "text/plain": [
       "  Restaurant                             Location                                Cuisines Average_Cost Minimum_Order Rating Votes Reviews Delivery_Time\n",
       "0    ID_6321  FTI College, Law College Road, Pune  Fast Food, Rolls, Burger, Salad, Wraps         ₹200           ₹50    3.5    12       4    30 minutes\n",
       "1    ID_2882                 Sector 3, Marathalli                     Ice Cream, Desserts         ₹100           ₹50    3.5    11       4    30 minutes"
      ]
     },
     "execution_count": 11,
     "metadata": {},
     "output_type": "execute_result"
    }
   ],
   "source": [
    "df.head(2) "
   ]
  },
  {
   "cell_type": "code",
   "execution_count": 12,
   "metadata": {},
   "outputs": [],
   "source": [
    "df['Restaurant'] = df['Restaurant'].astype('category')"
   ]
  },
  {
   "cell_type": "code",
   "execution_count": 13,
   "metadata": {},
   "outputs": [],
   "source": [
    "df['Cuisines'] = df['Cuisines'].str.replace('Poké','Poke')\n",
    "df['Cuisines'] = df['Cuisines'].str.replace('Coffee','Tea')\n",
    "df['Cuisines'] = df['Cuisines'].str.replace('Hyderabadi','Biryani')\n",
    "\n",
    "cuisines_list = df['Cuisines'].str.split(', ')\n",
    "\n",
    "from collections import Counter\n",
    "cuisines_counter = Counter(([a for b in cuisines_list.tolist() for a in b]))\n",
    "\n",
    "for cuisine in cuisines_counter.keys():\n",
    "    df[cuisine] = 0\n",
    "    df.loc[df['Cuisines'].str.contains(cuisine), cuisine] = 1"
   ]
  },
  {
   "cell_type": "code",
   "execution_count": 14,
   "metadata": {},
   "outputs": [],
   "source": [
    "df['Location'] = df['Location'].str.replace('Sector 63A,Gurgaon', 'Sector 63A, Gurgaon') \n",
    "df['Location'] = df['Location'].str.replace('BTM Layout,Bangalore', 'BTM Layout, Bangalore')\n",
    "df['Location'] = df['Location'].str.replace('Majestic', 'Majestic, Bangalore')\n",
    "\n",
    "location_list = df['Location'].str.split(', ') \n",
    "\n",
    "from collections import Counter\n",
    "location_counter = Counter(([a for b in location_list.tolist() for a in b]))\n",
    "\n",
    "for loc in location_counter.keys():\n",
    "    df[loc] = 0\n",
    "    df.loc[df['Location'].str.contains(loc), loc] = 1"
   ]
  },
  {
   "cell_type": "code",
   "execution_count": 15,
   "metadata": {},
   "outputs": [],
   "source": [
    "df['Average_Cost'] = df['Average_Cost'].str.replace('for','-999')\n",
    "df['Average_Cost'] = df['Average_Cost'].str.replace(',','')\n",
    "df['Average_Cost'] = df['Average_Cost'].str.replace('₹','').astype(float)\n",
    "df['Average_Cost'] = df['Average_Cost'].replace('-999',np.NaN) "
   ]
  },
  {
   "cell_type": "code",
   "execution_count": 16,
   "metadata": {},
   "outputs": [],
   "source": [
    "df['Minimum_Order'] = df['Minimum_Order'].str.replace('₹','').astype(float)"
   ]
  },
  {
   "cell_type": "code",
   "execution_count": 17,
   "metadata": {},
   "outputs": [],
   "source": [
    "df['Rating1'] = df['Rating'].str.replace('-','-999')\n",
    "df['Rating1'] = df['Rating1'].str.replace('NEW','-999')\n",
    "df['Rating1'] = df['Rating1'].str.replace('Opening Soon','-999')\n",
    "df['Rating1'] = df['Rating1'].str.replace('Temporarily Closed','-999')\n",
    "df['Rating1'] = df['Rating1'].astype(float)\n",
    "df['Rating1'] = df['Rating1'].replace(-999,np.NaN)\n",
    "\n",
    "agg_func = {\n",
    "    'Rating1': ['mean','median','min','max','sum']\n",
    "}\n",
    "agg_restaurant = df.groupby('Restaurant').agg(agg_func)\n",
    "agg_restaurant.columns = [ 'Restaurant_' + ('_'.join(col).strip()) for col in agg_restaurant.columns.values]\n",
    "agg_restaurant.reset_index(inplace=True)\n",
    "df = df.merge(agg_restaurant, on=['Restaurant'], how='left')"
   ]
  },
  {
   "cell_type": "code",
   "execution_count": 18,
   "metadata": {},
   "outputs": [],
   "source": [
    "df['Cat_Rating1'] = pd.qcut(df['Rating1'],q=5,labels=False)"
   ]
  },
  {
   "cell_type": "code",
   "execution_count": 19,
   "metadata": {},
   "outputs": [],
   "source": [
    "df['Rating'] = df['Rating'].astype('category')"
   ]
  },
  {
   "cell_type": "code",
   "execution_count": 20,
   "metadata": {},
   "outputs": [],
   "source": [
    "df['Votes'] = df['Votes'].str.replace('-','-999')\n",
    "df['Votes'] = df['Votes'].astype(float)\n",
    "df['Votes'] = df['Votes'].replace(-999,np.NaN)"
   ]
  },
  {
   "cell_type": "code",
   "execution_count": 21,
   "metadata": {},
   "outputs": [],
   "source": [
    "#df['Cat_Votes'] = pd.qcut(df['Votes'],q=5,labels=False)"
   ]
  },
  {
   "cell_type": "code",
   "execution_count": 22,
   "metadata": {},
   "outputs": [],
   "source": [
    "df['Reviews'] = df['Reviews'].str.replace('-','-999')\n",
    "df['Reviews'] = df['Reviews'].astype(float)\n",
    "df['Reviews'] = df['Reviews'].replace(-999,np.NaN)"
   ]
  },
  {
   "cell_type": "code",
   "execution_count": 23,
   "metadata": {},
   "outputs": [],
   "source": [
    "#df['Cat_Reviews'] = pd.qcut(df['Reviews'],q=5,labels=False)"
   ]
  },
  {
   "cell_type": "code",
   "execution_count": 24,
   "metadata": {},
   "outputs": [],
   "source": [
    "calc = df.groupby(['Restaurant'], axis=0).agg({'Restaurant':[('op1', 'count')]}).reset_index() \n",
    "calc.columns = ['Restaurant','Restaurant Count']\n",
    "df = df.merge(calc, on=['Restaurant'], how='left')"
   ]
  },
  {
   "cell_type": "code",
   "execution_count": 25,
   "metadata": {},
   "outputs": [],
   "source": [
    "agg_func = {\n",
    "    'Votes': ['mean','median','min','max','sum'],\n",
    "    'Reviews': ['mean','median','min','max','sum']\n",
    "    \n",
    "}\n",
    "agg_restaurant = df.groupby('Restaurant').agg(agg_func)\n",
    "agg_restaurant.columns = [ 'Restaurant_' + ('_'.join(col).strip()) for col in agg_restaurant.columns.values]\n",
    "agg_restaurant.reset_index(inplace=True)\n",
    "df = df.merge(agg_restaurant, on=['Restaurant'], how='left')"
   ]
  },
  {
   "cell_type": "code",
   "execution_count": 26,
   "metadata": {},
   "outputs": [],
   "source": [
    "df.drop(['Cuisines','Location','Rating1'], axis=1, inplace=True)"
   ]
  },
  {
   "cell_type": "code",
   "execution_count": 27,
   "metadata": {},
   "outputs": [],
   "source": [
    "train_df = df[df['Delivery_Time'].isnull()!=True]\n",
    "test_df = df[df['Delivery_Time'].isnull()==True]\n",
    "test_df.drop(['Delivery_Time'], axis=1, inplace=True)"
   ]
  },
  {
   "cell_type": "code",
   "execution_count": 28,
   "metadata": {},
   "outputs": [
    {
     "data": {
      "text/plain": [
       "array(['120 minutes', '20 minutes', '30 minutes', '45 minutes',\n",
       "       '65 minutes', '80 minutes'], dtype=object)"
      ]
     },
     "execution_count": 28,
     "metadata": {},
     "output_type": "execute_result"
    }
   ],
   "source": [
    "from sklearn.preprocessing import LabelEncoder\n",
    "le = LabelEncoder()\n",
    "train_df['Delivery_Time'] = le.fit_transform(train_df['Delivery_Time'])\n",
    "le.classes_"
   ]
  },
  {
   "cell_type": "code",
   "execution_count": 29,
   "metadata": {},
   "outputs": [
    {
     "data": {
      "text/plain": [
       "((11090, 188), (2774, 187))"
      ]
     },
     "execution_count": 29,
     "metadata": {},
     "output_type": "execute_result"
    }
   ],
   "source": [
    "train_df.shape, test_df.shape"
   ]
  },
  {
   "cell_type": "code",
   "execution_count": 30,
   "metadata": {},
   "outputs": [
    {
     "data": {
      "text/html": [
       "<div>\n",
       "<style scoped>\n",
       "    .dataframe tbody tr th:only-of-type {\n",
       "        vertical-align: middle;\n",
       "    }\n",
       "\n",
       "    .dataframe tbody tr th {\n",
       "        vertical-align: top;\n",
       "    }\n",
       "\n",
       "    .dataframe thead th {\n",
       "        text-align: right;\n",
       "    }\n",
       "</style>\n",
       "<table border=\"1\" class=\"dataframe\">\n",
       "  <thead>\n",
       "    <tr style=\"text-align: right;\">\n",
       "      <th></th>\n",
       "      <th>Restaurant</th>\n",
       "      <th>Average_Cost</th>\n",
       "      <th>Minimum_Order</th>\n",
       "      <th>Rating</th>\n",
       "      <th>Votes</th>\n",
       "      <th>Reviews</th>\n",
       "      <th>Delivery_Time</th>\n",
       "      <th>Fast Food</th>\n",
       "      <th>Rolls</th>\n",
       "      <th>Burger</th>\n",
       "      <th>Salad</th>\n",
       "      <th>Wraps</th>\n",
       "      <th>Ice Cream</th>\n",
       "      <th>Desserts</th>\n",
       "      <th>Italian</th>\n",
       "      <th>Street Food</th>\n",
       "      <th>Mughlai</th>\n",
       "      <th>North Indian</th>\n",
       "      <th>Chinese</th>\n",
       "      <th>Cafe</th>\n",
       "      <th>Beverages</th>\n",
       "      <th>South Indian</th>\n",
       "      <th>Thai</th>\n",
       "      <th>Asian</th>\n",
       "      <th>Mithai</th>\n",
       "      <th>Momos</th>\n",
       "      <th>Indonesian</th>\n",
       "      <th>Biryani</th>\n",
       "      <th>Kerala</th>\n",
       "      <th>Bihari</th>\n",
       "      <th>Mexican</th>\n",
       "      <th>Japanese</th>\n",
       "      <th>Bakery</th>\n",
       "      <th>Burmese</th>\n",
       "      <th>Bubble Tea</th>\n",
       "      <th>Tea</th>\n",
       "      <th>Pizza</th>\n",
       "      <th>Lucknowi</th>\n",
       "      <th>Mangalorean</th>\n",
       "      <th>European</th>\n",
       "      <th>Continental</th>\n",
       "      <th>Sandwich</th>\n",
       "      <th>Healthy Food</th>\n",
       "      <th>Bengali</th>\n",
       "      <th>American</th>\n",
       "      <th>Mishti</th>\n",
       "      <th>Andhra</th>\n",
       "      <th>Assamese</th>\n",
       "      <th>Maharashtrian</th>\n",
       "      <th>German</th>\n",
       "      <th>Arabian</th>\n",
       "      <th>Finger Food</th>\n",
       "      <th>Kebab</th>\n",
       "      <th>Chettinad</th>\n",
       "      <th>Seafood</th>\n",
       "      <th>Juices</th>\n",
       "      <th>Parsi</th>\n",
       "      <th>Sushi</th>\n",
       "      <th>Odia</th>\n",
       "      <th>Tamil</th>\n",
       "      <th>Cantonese</th>\n",
       "      <th>North Eastern</th>\n",
       "      <th>Tibetan</th>\n",
       "      <th>Lebanese</th>\n",
       "      <th>Spanish</th>\n",
       "      <th>Bar Food</th>\n",
       "      <th>Konkan</th>\n",
       "      <th>Paan</th>\n",
       "      <th>Steak</th>\n",
       "      <th>Mediterranean</th>\n",
       "      <th>Bohri</th>\n",
       "      <th>Afghan</th>\n",
       "      <th>Goan</th>\n",
       "      <th>Gujarati</th>\n",
       "      <th>BBQ</th>\n",
       "      <th>Raw Meats</th>\n",
       "      <th>Malaysian</th>\n",
       "      <th>Vietnamese</th>\n",
       "      <th>Sri Lankan</th>\n",
       "      <th>Rajasthani</th>\n",
       "      <th>Poke</th>\n",
       "      <th>Roast Chicken</th>\n",
       "      <th>Brazilian</th>\n",
       "      <th>Belgian</th>\n",
       "      <th>Naga</th>\n",
       "      <th>Korean</th>\n",
       "      <th>Modern Indian</th>\n",
       "      <th>Awadhi</th>\n",
       "      <th>Kashmiri</th>\n",
       "      <th>French</th>\n",
       "      <th>Portuguese</th>\n",
       "      <th>Charcoal Chicken</th>\n",
       "      <th>Frozen Yogurt</th>\n",
       "      <th>Bangladeshi</th>\n",
       "      <th>Malwani</th>\n",
       "      <th>Iranian</th>\n",
       "      <th>Nepalese</th>\n",
       "      <th>Indian</th>\n",
       "      <th>Tex-Mex</th>\n",
       "      <th>Hot dogs</th>\n",
       "      <th>South American</th>\n",
       "      <th>Middle Eastern</th>\n",
       "      <th>African</th>\n",
       "      <th>Turkish</th>\n",
       "      <th>Israeli</th>\n",
       "      <th>Greek</th>\n",
       "      <th>FTI College</th>\n",
       "      <th>Law College Road</th>\n",
       "      <th>Pune</th>\n",
       "      <th>Sector 3</th>\n",
       "      <th>Marathalli</th>\n",
       "      <th>Mumbai Central</th>\n",
       "      <th>Sector 1</th>\n",
       "      <th>Noida</th>\n",
       "      <th>Rmz Centennial</th>\n",
       "      <th>I Gate</th>\n",
       "      <th>Whitefield</th>\n",
       "      <th>Delhi University-GTB Nagar</th>\n",
       "      <th>Yerawada</th>\n",
       "      <th>Maharashtra</th>\n",
       "      <th>Delhi Administration Flats</th>\n",
       "      <th>Timarpur</th>\n",
       "      <th>Moulali</th>\n",
       "      <th>Kolkata</th>\n",
       "      <th>Dockyard Road</th>\n",
       "      <th>Mumbai CST Area</th>\n",
       "      <th>Pune University</th>\n",
       "      <th>Gora Bazar</th>\n",
       "      <th>Rajbari</th>\n",
       "      <th>North Dumdum</th>\n",
       "      <th>D-Block</th>\n",
       "      <th>Sector 63</th>\n",
       "      <th>Sector 14</th>\n",
       "      <th>Mico Layout</th>\n",
       "      <th>Stage 2</th>\n",
       "      <th>BTM Layout</th>\n",
       "      <th>Bangalore</th>\n",
       "      <th>Laxman Vihar Industrial Area</th>\n",
       "      <th>Sector 3A</th>\n",
       "      <th>Gurgoan</th>\n",
       "      <th>Tiretti</th>\n",
       "      <th>Sandhurst Road</th>\n",
       "      <th>MG Road</th>\n",
       "      <th>Hyderabad Public School</th>\n",
       "      <th>Begumpet</th>\n",
       "      <th>Majestic</th>\n",
       "      <th>Chandni Chowk</th>\n",
       "      <th>Delhi High Court</th>\n",
       "      <th>India Gate</th>\n",
       "      <th>Chatta Bazaar</th>\n",
       "      <th>Malakpet</th>\n",
       "      <th>Hyderabad</th>\n",
       "      <th>Sector 63A</th>\n",
       "      <th>Gurgaon</th>\n",
       "      <th>Delhi Cantt.</th>\n",
       "      <th>Tejas Nagar Colony</th>\n",
       "      <th>Wadala West</th>\n",
       "      <th>Mumbai</th>\n",
       "      <th>Babarpur</th>\n",
       "      <th>New Delhi</th>\n",
       "      <th>Delhi</th>\n",
       "      <th>Nathan Road</th>\n",
       "      <th>Mangaldas Road</th>\n",
       "      <th>Panjetan Colony</th>\n",
       "      <th>Raja Bazar</th>\n",
       "      <th>Jaya Nagar</th>\n",
       "      <th>Saidabad</th>\n",
       "      <th>Noorkhan Bazaar</th>\n",
       "      <th>Musi Nagar</th>\n",
       "      <th>BTM Layout 1</th>\n",
       "      <th>Electronic City</th>\n",
       "      <th>Restaurant_Rating1_mean</th>\n",
       "      <th>Restaurant_Rating1_median</th>\n",
       "      <th>Restaurant_Rating1_min</th>\n",
       "      <th>Restaurant_Rating1_max</th>\n",
       "      <th>Restaurant_Rating1_sum</th>\n",
       "      <th>Cat_Rating1</th>\n",
       "      <th>Restaurant Count</th>\n",
       "      <th>Restaurant_Votes_mean</th>\n",
       "      <th>Restaurant_Votes_median</th>\n",
       "      <th>Restaurant_Votes_min</th>\n",
       "      <th>Restaurant_Votes_max</th>\n",
       "      <th>Restaurant_Votes_sum</th>\n",
       "      <th>Restaurant_Reviews_mean</th>\n",
       "      <th>Restaurant_Reviews_median</th>\n",
       "      <th>Restaurant_Reviews_min</th>\n",
       "      <th>Restaurant_Reviews_max</th>\n",
       "      <th>Restaurant_Reviews_sum</th>\n",
       "    </tr>\n",
       "  </thead>\n",
       "  <tbody>\n",
       "    <tr>\n",
       "      <th>11088</th>\n",
       "      <td>ID_4115</td>\n",
       "      <td>100.0</td>\n",
       "      <td>50.0</td>\n",
       "      <td>3.1</td>\n",
       "      <td>24.0</td>\n",
       "      <td>9.0</td>\n",
       "      <td>2</td>\n",
       "      <td>0</td>\n",
       "      <td>0</td>\n",
       "      <td>0</td>\n",
       "      <td>0</td>\n",
       "      <td>0</td>\n",
       "      <td>0</td>\n",
       "      <td>0</td>\n",
       "      <td>0</td>\n",
       "      <td>0</td>\n",
       "      <td>0</td>\n",
       "      <td>1</td>\n",
       "      <td>0</td>\n",
       "      <td>0</td>\n",
       "      <td>0</td>\n",
       "      <td>0</td>\n",
       "      <td>0</td>\n",
       "      <td>0</td>\n",
       "      <td>0</td>\n",
       "      <td>0</td>\n",
       "      <td>0</td>\n",
       "      <td>0</td>\n",
       "      <td>0</td>\n",
       "      <td>0</td>\n",
       "      <td>0</td>\n",
       "      <td>0</td>\n",
       "      <td>0</td>\n",
       "      <td>0</td>\n",
       "      <td>0</td>\n",
       "      <td>0</td>\n",
       "      <td>0</td>\n",
       "      <td>0</td>\n",
       "      <td>0</td>\n",
       "      <td>0</td>\n",
       "      <td>0</td>\n",
       "      <td>0</td>\n",
       "      <td>0</td>\n",
       "      <td>0</td>\n",
       "      <td>0</td>\n",
       "      <td>0</td>\n",
       "      <td>0</td>\n",
       "      <td>0</td>\n",
       "      <td>0</td>\n",
       "      <td>0</td>\n",
       "      <td>0</td>\n",
       "      <td>0</td>\n",
       "      <td>0</td>\n",
       "      <td>0</td>\n",
       "      <td>0</td>\n",
       "      <td>0</td>\n",
       "      <td>0</td>\n",
       "      <td>0</td>\n",
       "      <td>0</td>\n",
       "      <td>0</td>\n",
       "      <td>0</td>\n",
       "      <td>0</td>\n",
       "      <td>0</td>\n",
       "      <td>0</td>\n",
       "      <td>0</td>\n",
       "      <td>0</td>\n",
       "      <td>0</td>\n",
       "      <td>0</td>\n",
       "      <td>0</td>\n",
       "      <td>0</td>\n",
       "      <td>0</td>\n",
       "      <td>0</td>\n",
       "      <td>0</td>\n",
       "      <td>0</td>\n",
       "      <td>0</td>\n",
       "      <td>0</td>\n",
       "      <td>0</td>\n",
       "      <td>0</td>\n",
       "      <td>0</td>\n",
       "      <td>0</td>\n",
       "      <td>0</td>\n",
       "      <td>0</td>\n",
       "      <td>0</td>\n",
       "      <td>0</td>\n",
       "      <td>0</td>\n",
       "      <td>0</td>\n",
       "      <td>0</td>\n",
       "      <td>0</td>\n",
       "      <td>0</td>\n",
       "      <td>0</td>\n",
       "      <td>0</td>\n",
       "      <td>0</td>\n",
       "      <td>0</td>\n",
       "      <td>0</td>\n",
       "      <td>0</td>\n",
       "      <td>0</td>\n",
       "      <td>0</td>\n",
       "      <td>1</td>\n",
       "      <td>0</td>\n",
       "      <td>0</td>\n",
       "      <td>0</td>\n",
       "      <td>0</td>\n",
       "      <td>0</td>\n",
       "      <td>0</td>\n",
       "      <td>0</td>\n",
       "      <td>0</td>\n",
       "      <td>0</td>\n",
       "      <td>0</td>\n",
       "      <td>0</td>\n",
       "      <td>1</td>\n",
       "      <td>1</td>\n",
       "      <td>0</td>\n",
       "      <td>0</td>\n",
       "      <td>0</td>\n",
       "      <td>0</td>\n",
       "      <td>0</td>\n",
       "      <td>0</td>\n",
       "      <td>0</td>\n",
       "      <td>0</td>\n",
       "      <td>0</td>\n",
       "      <td>0</td>\n",
       "      <td>0</td>\n",
       "      <td>0</td>\n",
       "      <td>0</td>\n",
       "      <td>0</td>\n",
       "      <td>0</td>\n",
       "      <td>0</td>\n",
       "      <td>0</td>\n",
       "      <td>0</td>\n",
       "      <td>0</td>\n",
       "      <td>0</td>\n",
       "      <td>0</td>\n",
       "      <td>0</td>\n",
       "      <td>0</td>\n",
       "      <td>0</td>\n",
       "      <td>0</td>\n",
       "      <td>0</td>\n",
       "      <td>0</td>\n",
       "      <td>0</td>\n",
       "      <td>0</td>\n",
       "      <td>0</td>\n",
       "      <td>0</td>\n",
       "      <td>0</td>\n",
       "      <td>0</td>\n",
       "      <td>0</td>\n",
       "      <td>0</td>\n",
       "      <td>0</td>\n",
       "      <td>0</td>\n",
       "      <td>0</td>\n",
       "      <td>0</td>\n",
       "      <td>0</td>\n",
       "      <td>0</td>\n",
       "      <td>0</td>\n",
       "      <td>0</td>\n",
       "      <td>0</td>\n",
       "      <td>0</td>\n",
       "      <td>0</td>\n",
       "      <td>0</td>\n",
       "      <td>0</td>\n",
       "      <td>0</td>\n",
       "      <td>0</td>\n",
       "      <td>0</td>\n",
       "      <td>0</td>\n",
       "      <td>0</td>\n",
       "      <td>0</td>\n",
       "      <td>0</td>\n",
       "      <td>0</td>\n",
       "      <td>0</td>\n",
       "      <td>0</td>\n",
       "      <td>0</td>\n",
       "      <td>0</td>\n",
       "      <td>3.1</td>\n",
       "      <td>3.1</td>\n",
       "      <td>3.1</td>\n",
       "      <td>3.1</td>\n",
       "      <td>3.1</td>\n",
       "      <td>0.0</td>\n",
       "      <td>1</td>\n",
       "      <td>24.0</td>\n",
       "      <td>24.0</td>\n",
       "      <td>24.0</td>\n",
       "      <td>24.0</td>\n",
       "      <td>24.0</td>\n",
       "      <td>9.0</td>\n",
       "      <td>9.0</td>\n",
       "      <td>9.0</td>\n",
       "      <td>9.0</td>\n",
       "      <td>9.0</td>\n",
       "    </tr>\n",
       "    <tr>\n",
       "      <th>11089</th>\n",
       "      <td>ID_4417</td>\n",
       "      <td>100.0</td>\n",
       "      <td>50.0</td>\n",
       "      <td>NEW</td>\n",
       "      <td>NaN</td>\n",
       "      <td>NaN</td>\n",
       "      <td>2</td>\n",
       "      <td>0</td>\n",
       "      <td>0</td>\n",
       "      <td>0</td>\n",
       "      <td>0</td>\n",
       "      <td>0</td>\n",
       "      <td>0</td>\n",
       "      <td>0</td>\n",
       "      <td>0</td>\n",
       "      <td>0</td>\n",
       "      <td>0</td>\n",
       "      <td>1</td>\n",
       "      <td>0</td>\n",
       "      <td>0</td>\n",
       "      <td>0</td>\n",
       "      <td>0</td>\n",
       "      <td>0</td>\n",
       "      <td>0</td>\n",
       "      <td>0</td>\n",
       "      <td>0</td>\n",
       "      <td>0</td>\n",
       "      <td>0</td>\n",
       "      <td>0</td>\n",
       "      <td>0</td>\n",
       "      <td>0</td>\n",
       "      <td>0</td>\n",
       "      <td>0</td>\n",
       "      <td>0</td>\n",
       "      <td>0</td>\n",
       "      <td>0</td>\n",
       "      <td>0</td>\n",
       "      <td>0</td>\n",
       "      <td>0</td>\n",
       "      <td>0</td>\n",
       "      <td>0</td>\n",
       "      <td>0</td>\n",
       "      <td>0</td>\n",
       "      <td>0</td>\n",
       "      <td>0</td>\n",
       "      <td>0</td>\n",
       "      <td>0</td>\n",
       "      <td>0</td>\n",
       "      <td>0</td>\n",
       "      <td>0</td>\n",
       "      <td>0</td>\n",
       "      <td>0</td>\n",
       "      <td>0</td>\n",
       "      <td>0</td>\n",
       "      <td>0</td>\n",
       "      <td>0</td>\n",
       "      <td>0</td>\n",
       "      <td>0</td>\n",
       "      <td>0</td>\n",
       "      <td>0</td>\n",
       "      <td>0</td>\n",
       "      <td>0</td>\n",
       "      <td>0</td>\n",
       "      <td>0</td>\n",
       "      <td>0</td>\n",
       "      <td>0</td>\n",
       "      <td>0</td>\n",
       "      <td>0</td>\n",
       "      <td>0</td>\n",
       "      <td>0</td>\n",
       "      <td>0</td>\n",
       "      <td>0</td>\n",
       "      <td>0</td>\n",
       "      <td>0</td>\n",
       "      <td>0</td>\n",
       "      <td>0</td>\n",
       "      <td>0</td>\n",
       "      <td>0</td>\n",
       "      <td>0</td>\n",
       "      <td>0</td>\n",
       "      <td>0</td>\n",
       "      <td>0</td>\n",
       "      <td>0</td>\n",
       "      <td>0</td>\n",
       "      <td>0</td>\n",
       "      <td>0</td>\n",
       "      <td>0</td>\n",
       "      <td>0</td>\n",
       "      <td>0</td>\n",
       "      <td>0</td>\n",
       "      <td>0</td>\n",
       "      <td>0</td>\n",
       "      <td>0</td>\n",
       "      <td>0</td>\n",
       "      <td>0</td>\n",
       "      <td>0</td>\n",
       "      <td>0</td>\n",
       "      <td>1</td>\n",
       "      <td>0</td>\n",
       "      <td>0</td>\n",
       "      <td>0</td>\n",
       "      <td>0</td>\n",
       "      <td>0</td>\n",
       "      <td>0</td>\n",
       "      <td>0</td>\n",
       "      <td>0</td>\n",
       "      <td>0</td>\n",
       "      <td>0</td>\n",
       "      <td>0</td>\n",
       "      <td>0</td>\n",
       "      <td>0</td>\n",
       "      <td>0</td>\n",
       "      <td>0</td>\n",
       "      <td>0</td>\n",
       "      <td>0</td>\n",
       "      <td>0</td>\n",
       "      <td>0</td>\n",
       "      <td>0</td>\n",
       "      <td>0</td>\n",
       "      <td>0</td>\n",
       "      <td>0</td>\n",
       "      <td>0</td>\n",
       "      <td>0</td>\n",
       "      <td>0</td>\n",
       "      <td>0</td>\n",
       "      <td>0</td>\n",
       "      <td>0</td>\n",
       "      <td>0</td>\n",
       "      <td>0</td>\n",
       "      <td>0</td>\n",
       "      <td>0</td>\n",
       "      <td>1</td>\n",
       "      <td>0</td>\n",
       "      <td>0</td>\n",
       "      <td>0</td>\n",
       "      <td>0</td>\n",
       "      <td>0</td>\n",
       "      <td>0</td>\n",
       "      <td>0</td>\n",
       "      <td>0</td>\n",
       "      <td>0</td>\n",
       "      <td>0</td>\n",
       "      <td>0</td>\n",
       "      <td>0</td>\n",
       "      <td>0</td>\n",
       "      <td>0</td>\n",
       "      <td>0</td>\n",
       "      <td>0</td>\n",
       "      <td>0</td>\n",
       "      <td>0</td>\n",
       "      <td>0</td>\n",
       "      <td>0</td>\n",
       "      <td>1</td>\n",
       "      <td>1</td>\n",
       "      <td>0</td>\n",
       "      <td>0</td>\n",
       "      <td>0</td>\n",
       "      <td>0</td>\n",
       "      <td>0</td>\n",
       "      <td>0</td>\n",
       "      <td>0</td>\n",
       "      <td>0</td>\n",
       "      <td>0</td>\n",
       "      <td>0</td>\n",
       "      <td>0</td>\n",
       "      <td>0</td>\n",
       "      <td>0</td>\n",
       "      <td>0</td>\n",
       "      <td>0</td>\n",
       "      <td>0</td>\n",
       "      <td>0</td>\n",
       "      <td>NaN</td>\n",
       "      <td>NaN</td>\n",
       "      <td>NaN</td>\n",
       "      <td>NaN</td>\n",
       "      <td>0.0</td>\n",
       "      <td>NaN</td>\n",
       "      <td>1</td>\n",
       "      <td>NaN</td>\n",
       "      <td>NaN</td>\n",
       "      <td>NaN</td>\n",
       "      <td>NaN</td>\n",
       "      <td>0.0</td>\n",
       "      <td>NaN</td>\n",
       "      <td>NaN</td>\n",
       "      <td>NaN</td>\n",
       "      <td>NaN</td>\n",
       "      <td>0.0</td>\n",
       "    </tr>\n",
       "  </tbody>\n",
       "</table>\n",
       "</div>"
      ],
      "text/plain": [
       "      Restaurant  Average_Cost  Minimum_Order Rating  Votes  Reviews  Delivery_Time  Fast Food  Rolls  Burger  Salad  Wraps  Ice Cream  Desserts  Italian  Street Food  Mughlai  North Indian  Chinese  Cafe  Beverages  South Indian  Thai  Asian  Mithai  Momos  Indonesian  Biryani  Kerala  Bihari  Mexican  Japanese  Bakery  Burmese  Bubble Tea  Tea  Pizza  Lucknowi  Mangalorean  European  Continental  Sandwich  Healthy Food  Bengali  American  Mishti  Andhra  Assamese  Maharashtrian  German  Arabian  Finger Food  Kebab  Chettinad  Seafood  Juices  Parsi  Sushi  Odia  Tamil  Cantonese  North Eastern  Tibetan  Lebanese  Spanish  Bar Food  Konkan  Paan  Steak  Mediterranean  Bohri  Afghan  Goan  Gujarati  BBQ  Raw Meats  Malaysian  Vietnamese  Sri Lankan  Rajasthani  Poke  Roast Chicken  Brazilian  Belgian  Naga  Korean  Modern Indian  Awadhi  Kashmiri  French  Portuguese  Charcoal Chicken  Frozen Yogurt  Bangladeshi  Malwani  Iranian  Nepalese  Indian  Tex-Mex  Hot dogs  South American  \\\n",
       "11088    ID_4115         100.0           50.0    3.1   24.0      9.0              2          0      0       0      0      0          0         0        0            0        0             1        0     0          0             0     0      0       0      0           0        0       0       0        0         0       0        0           0    0      0         0            0         0            0         0             0        0         0       0       0         0              0       0        0            0      0          0        0       0      0      0     0      0          0              0        0         0        0         0       0     0      0              0      0       0     0         0    0          0          0           0           0           0     0              0          0        0     0       0              0       0         0       0           0                 0              0            0        0        0         0       1        0         0               0   \n",
       "11089    ID_4417         100.0           50.0    NEW    NaN      NaN              2          0      0       0      0      0          0         0        0            0        0             1        0     0          0             0     0      0       0      0           0        0       0       0        0         0       0        0           0    0      0         0            0         0            0         0             0        0         0       0       0         0              0       0        0            0      0          0        0       0      0      0     0      0          0              0        0         0        0         0       0     0      0              0      0       0     0         0    0          0          0           0           0           0     0              0          0        0     0       0              0       0         0       0           0                 0              0            0        0        0         0       1        0         0               0   \n",
       "\n",
       "       Middle Eastern  African  Turkish  Israeli  Greek  FTI College  Law College Road  Pune  Sector 3  Marathalli  Mumbai Central  Sector 1  Noida  Rmz Centennial  I Gate  Whitefield  Delhi University-GTB Nagar  Yerawada  Maharashtra  Delhi Administration Flats  Timarpur  Moulali  Kolkata  Dockyard Road  Mumbai CST Area  Pune University  Gora Bazar  Rajbari  North Dumdum  D-Block  Sector 63  Sector 14  Mico Layout  Stage 2  BTM Layout  Bangalore  Laxman Vihar Industrial Area  Sector 3A  Gurgoan  Tiretti  Sandhurst Road  MG Road  Hyderabad Public School  Begumpet  Majestic  Chandni Chowk  Delhi High Court  India Gate  Chatta Bazaar  Malakpet  Hyderabad  Sector 63A  Gurgaon  Delhi Cantt.  Tejas Nagar Colony  Wadala West  Mumbai  Babarpur  New Delhi  Delhi  Nathan Road  Mangaldas Road  Panjetan Colony  Raja Bazar  Jaya Nagar  Saidabad  Noorkhan Bazaar  Musi Nagar  BTM Layout 1  Electronic City  Restaurant_Rating1_mean  Restaurant_Rating1_median  Restaurant_Rating1_min  \\\n",
       "11088               0        0        0        0      0            0                 0     0         1           1               0         0      0               0       0           0                           0         0            0                           0         0        0        0              0                0                0           0        0             0        0          0          0            0        0           0          0                             0          0        0        0               0        0                        0         0         0              0                 0           0              0         0          0           0        0             0                   0            0       0         0          0      0            0               0                0           0           0         0                0           0             0                0                      3.1                        3.1                     3.1   \n",
       "11089               0        0        0        0      0            0                 0     0         0           0               0         0      0               0       0           0                           0         0            0                           0         0        0        0              0                0                0           0        0             0        0          1          0            0        0           0          0                             0          0        0        0               0        0                        0         0         0              0                 0           0              0         0          0           1        1             0                   0            0       0         0          0      0            0               0                0           0           0         0                0           0             0                0                      NaN                        NaN                     NaN   \n",
       "\n",
       "       Restaurant_Rating1_max  Restaurant_Rating1_sum  Cat_Rating1  Restaurant Count  Restaurant_Votes_mean  Restaurant_Votes_median  Restaurant_Votes_min  Restaurant_Votes_max  Restaurant_Votes_sum  Restaurant_Reviews_mean  Restaurant_Reviews_median  Restaurant_Reviews_min  Restaurant_Reviews_max  Restaurant_Reviews_sum  \n",
       "11088                     3.1                     3.1          0.0                 1                   24.0                     24.0                  24.0                  24.0                  24.0                      9.0                        9.0                     9.0                     9.0                     9.0  \n",
       "11089                     NaN                     0.0          NaN                 1                    NaN                      NaN                   NaN                   NaN                   0.0                      NaN                        NaN                     NaN                     NaN                     0.0  "
      ]
     },
     "execution_count": 30,
     "metadata": {},
     "output_type": "execute_result"
    }
   ],
   "source": [
    "train_df.tail(2)"
   ]
  },
  {
   "cell_type": "markdown",
   "metadata": {},
   "source": [
    "# Train test split"
   ]
  },
  {
   "cell_type": "code",
   "execution_count": 31,
   "metadata": {},
   "outputs": [],
   "source": [
    "X = train_df.drop(labels=['Delivery_Time'], axis=1)\n",
    "y = train_df['Delivery_Time'].values\n",
    "\n",
    "from sklearn.model_selection import train_test_split\n",
    "X_train, X_cv, y_train, y_cv = train_test_split(X, y, test_size=0.25, random_state=1)"
   ]
  },
  {
   "cell_type": "code",
   "execution_count": 32,
   "metadata": {},
   "outputs": [
    {
     "data": {
      "text/plain": [
       "((8317, 187), (8317,), (2773, 187), (2773,))"
      ]
     },
     "execution_count": 32,
     "metadata": {},
     "output_type": "execute_result"
    }
   ],
   "source": [
    "X_train.shape, y_train.shape, X_cv.shape, y_cv.shape"
   ]
  },
  {
   "cell_type": "code",
   "execution_count": 33,
   "metadata": {},
   "outputs": [
    {
     "data": {
      "text/plain": [
       "array([0, 3])"
      ]
     },
     "execution_count": 33,
     "metadata": {},
     "output_type": "execute_result"
    }
   ],
   "source": [
    "categorical_features_indices = np.where(X_train.dtypes == 'category')[0]\n",
    "categorical_features_indices"
   ]
  },
  {
   "cell_type": "markdown",
   "metadata": {},
   "source": [
    "# Build the model"
   ]
  },
  {
   "cell_type": "code",
   "execution_count": 34,
   "metadata": {},
   "outputs": [],
   "source": [
    "from math import sqrt \n",
    "from sklearn.metrics import accuracy_score"
   ]
  },
  {
   "cell_type": "markdown",
   "metadata": {},
   "source": [
    "## Catboost"
   ]
  },
  {
   "cell_type": "code",
   "execution_count": 35,
   "metadata": {},
   "outputs": [
    {
     "name": "stdout",
     "output_type": "stream",
     "text": [
      "0:\tlearn: 0.7041000\ttest: 0.7041000\ttest1: 0.7143887\tbest: 0.7143887 (0)\ttotal: 138ms\tremaining: 2m 17s\n",
      "50:\tlearn: 0.7722737\ttest: 0.9551521\ttest1: 0.8074288\tbest: 0.8085106 (46)\ttotal: 2.85s\tremaining: 53s\n",
      "100:\tlearn: 0.7816520\ttest: 0.9773957\ttest1: 0.8196899\tbest: 0.8200505 (99)\ttotal: 5.76s\tremaining: 51.3s\n",
      "150:\tlearn: 0.7921125\ttest: 0.9801611\ttest1: 0.8207717\tbest: 0.8214930 (145)\ttotal: 8.77s\tremaining: 49.3s\n",
      "200:\tlearn: 0.8055789\ttest: 0.9826861\ttest1: 0.8211323\tbest: 0.8232961 (160)\ttotal: 11.8s\tremaining: 47.1s\n",
      "250:\tlearn: 0.8165204\ttest: 0.9834075\ttest1: 0.8276235\tbest: 0.8279841 (240)\ttotal: 15.1s\tremaining: 45s\n",
      "300:\tlearn: 0.8240952\ttest: 0.9846098\ttest1: 0.8243779\tbest: 0.8283448 (257)\ttotal: 18.2s\tremaining: 42.2s\n",
      "350:\tlearn: 0.8315498\ttest: 0.9849705\ttest1: 0.8240173\tbest: 0.8283448 (257)\ttotal: 21.3s\tremaining: 39.3s\n",
      "400:\tlearn: 0.8400866\ttest: 0.9865336\ttest1: 0.8258204\tbest: 0.8283448 (257)\ttotal: 24.4s\tremaining: 36.4s\n",
      "450:\tlearn: 0.8487435\ttest: 0.9878562\ttest1: 0.8258204\tbest: 0.8283448 (257)\ttotal: 27.5s\tremaining: 33.5s\n",
      "Stopped by overfitting detector  (200 iterations wait)\n",
      "\n",
      "bestTest = 0.828344753\n",
      "bestIteration = 257\n",
      "\n",
      "Shrink model to first 258 iterations.\n"
     ]
    },
    {
     "data": {
      "text/plain": [
       "<catboost.core.CatBoostClassifier at 0x7fc9f76f5cc0>"
      ]
     },
     "execution_count": 35,
     "metadata": {},
     "output_type": "execute_result"
    }
   ],
   "source": [
    "from catboost import CatBoostClassifier\n",
    "cat = CatBoostClassifier(loss_function='MultiClass', \n",
    "                         eval_metric='Accuracy', \n",
    "                         depth=6,\n",
    "                         random_seed=42, \n",
    "                         iterations=1000, \n",
    "                         learning_rate=0.07,\n",
    "                         leaf_estimation_iterations=1,\n",
    "                         l2_leaf_reg=1,\n",
    "                         bootstrap_type='Bayesian', \n",
    "                         bagging_temperature=1, \n",
    "                         random_strength=1,\n",
    "                         od_type='Iter', \n",
    "                         od_wait=200)\n",
    "cat.fit(X_train, y_train, verbose=50,\n",
    "        use_best_model=True,\n",
    "        cat_features=categorical_features_indices,\n",
    "        eval_set=[(X_train, y_train),(X_cv, y_cv)],\n",
    "        plot=False)"
   ]
  },
  {
   "cell_type": "code",
   "execution_count": 36,
   "metadata": {},
   "outputs": [
    {
     "name": "stdout",
     "output_type": "stream",
     "text": [
      "accuracy: 0.8283447529751172\n"
     ]
    }
   ],
   "source": [
    "predictions = cat.predict(X_cv)\n",
    "print('accuracy:', accuracy_score(y_cv, predictions))"
   ]
  },
  {
   "cell_type": "code",
   "execution_count": 37,
   "metadata": {},
   "outputs": [
    {
     "data": {
      "image/png": "[encoded data removed]",
      "text/plain": [
       "<Figure size 1080x1080 with 1 Axes>"
      ]
     },
     "metadata": {
      "needs_background": "light"
     },
     "output_type": "display_data"
    }
   ],
   "source": [
    "feature_imp = pd.DataFrame(sorted(zip(cat.feature_importances_, X.columns), reverse=True)[:50], \n",
    "                           columns=['Value','Feature'])\n",
    "plt.figure(figsize=(15,15))\n",
    "sns.barplot(x=\"Value\", y=\"Feature\", data=feature_imp.sort_values(by=\"Value\", ascending=False))\n",
    "plt.title('Catboost Features')\n",
    "plt.tight_layout()\n",
    "plt.show()"
   ]
  },
  {
   "cell_type": "markdown",
   "metadata": {},
   "source": [
    "# Predict on test set"
   ]
  },
  {
   "cell_type": "code",
   "execution_count": 38,
   "metadata": {},
   "outputs": [],
   "source": [
    "Xtest = test_df"
   ]
  },
  {
   "cell_type": "markdown",
   "metadata": {},
   "source": [
    "## Catboost"
   ]
  },
  {
   "cell_type": "code",
   "execution_count": 39,
   "metadata": {},
   "outputs": [
    {
     "name": "stdout",
     "output_type": "stream",
     "text": [
      "Accuracy:  0.8243243243243243\n",
      "Accuracy:  0.8148648648648649\n",
      "Accuracy:  0.8121621621621622\n",
      "Accuracy:  0.8324324324324325\n",
      "Accuracy:  0.8243243243243243\n",
      "Accuracy:  0.8267929634641408\n",
      "Accuracy:  0.8457374830852503\n",
      "Accuracy:  0.8484438430311232\n",
      "Accuracy:  0.8254397834912043\n",
      "Accuracy:  0.8362652232746955\n",
      "Accuracy:  0.8146143437077131\n",
      "Accuracy:  0.8484438430311232\n",
      "Accuracy:  0.8552097428958051\n",
      "Accuracy:  0.8403247631935047\n",
      "Accuracy:  0.8119079837618404\n"
     ]
    }
   ],
   "source": [
    "from sklearn.model_selection import KFold\n",
    "\n",
    "errcat = []\n",
    "y_pred_totcat = []\n",
    "\n",
    "fold = KFold(n_splits=15, shuffle=True, random_state=42)\n",
    "\n",
    "for train_index, test_index in fold.split(X):\n",
    "    X_train, X_test = X.loc[train_index], X.loc[test_index]\n",
    "    y_train, y_test = y[train_index], y[test_index]\n",
    "    \n",
    "    cat = CatBoostClassifier(loss_function='MultiClass', \n",
    "                         eval_metric='Accuracy', \n",
    "                         depth=6,\n",
    "                         random_seed=42, \n",
    "                         iterations=1000, \n",
    "                         learning_rate=0.07,\n",
    "                         leaf_estimation_iterations=1,\n",
    "                         l2_leaf_reg=1, \n",
    "                         bootstrap_type='Bayesian', \n",
    "                         bagging_temperature=1, \n",
    "                         random_strength=1,\n",
    "                         od_type='Iter', \n",
    "                         od_wait=200)\n",
    "    cat.fit(X_train, y_train, eval_set=[(X_test, y_test)], verbose=0, early_stopping_rounds=200, cat_features=categorical_features_indices)\n",
    "\n",
    "    y_pred_cat = cat.predict(X_test)\n",
    "    print(\"Accuracy: \", accuracy_score(y_test,y_pred_cat))\n",
    "\n",
    "    errcat.append(accuracy_score(y_test,y_pred_cat))\n",
    "    p = cat.predict(Xtest)\n",
    "    y_pred_totcat.append(p)"
   ]
  },
  {
   "cell_type": "code",
   "execution_count": 40,
   "metadata": {},
   "outputs": [
    {
     "data": {
      "text/plain": [
       "0.8307525387363006"
      ]
     },
     "execution_count": 40,
     "metadata": {},
     "output_type": "execute_result"
    }
   ],
   "source": [
    "np.mean(errcat,0)"
   ]
  },
  {
   "cell_type": "code",
   "execution_count": 41,
   "metadata": {},
   "outputs": [
    {
     "data": {
      "text/plain": [
       "array([[2],\n",
       "       [2],\n",
       "       [2],\n",
       "       ...,\n",
       "       [3],\n",
       "       [2],\n",
       "       [4]])"
      ]
     },
     "execution_count": 41,
     "metadata": {},
     "output_type": "execute_result"
    }
   ],
   "source": [
    "cat_final = np.mean(y_pred_totcat,0).round().astype(int)\n",
    "cat_final"
   ]
  },
  {
   "cell_type": "markdown",
   "metadata": {},
   "source": [
    "# Submission"
   ]
  },
  {
   "cell_type": "code",
   "execution_count": 42,
   "metadata": {},
   "outputs": [
    {
     "data": {
      "text/html": [
       "<div>\n",
       "<style scoped>\n",
       "    .dataframe tbody tr th:only-of-type {\n",
       "        vertical-align: middle;\n",
       "    }\n",
       "\n",
       "    .dataframe tbody tr th {\n",
       "        vertical-align: top;\n",
       "    }\n",
       "\n",
       "    .dataframe thead th {\n",
       "        text-align: right;\n",
       "    }\n",
       "</style>\n",
       "<table border=\"1\" class=\"dataframe\">\n",
       "  <thead>\n",
       "    <tr style=\"text-align: right;\">\n",
       "      <th></th>\n",
       "      <th>Delivery_Time</th>\n",
       "    </tr>\n",
       "  </thead>\n",
       "  <tbody>\n",
       "    <tr>\n",
       "      <th>0</th>\n",
       "      <td>30 minutes</td>\n",
       "    </tr>\n",
       "    <tr>\n",
       "      <th>1</th>\n",
       "      <td>30 minutes</td>\n",
       "    </tr>\n",
       "    <tr>\n",
       "      <th>2</th>\n",
       "      <td>30 minutes</td>\n",
       "    </tr>\n",
       "    <tr>\n",
       "      <th>3</th>\n",
       "      <td>30 minutes</td>\n",
       "    </tr>\n",
       "    <tr>\n",
       "      <th>4</th>\n",
       "      <td>30 minutes</td>\n",
       "    </tr>\n",
       "  </tbody>\n",
       "</table>\n",
       "</div>"
      ],
      "text/plain": [
       "  Delivery_Time\n",
       "0    30 minutes\n",
       "1    30 minutes\n",
       "2    30 minutes\n",
       "3    30 minutes\n",
       "4    30 minutes"
      ]
     },
     "execution_count": 42,
     "metadata": {},
     "output_type": "execute_result"
    }
   ],
   "source": [
    "y_pred_class = le.inverse_transform(cat_final)\n",
    "df_sub = pd.DataFrame(data=y_pred_class, columns=['Delivery_Time'])\n",
    "df_sub.head()"
   ]
  },
  {
   "cell_type": "code",
   "execution_count": 43,
   "metadata": {},
   "outputs": [
    {
     "data": {
      "text/plain": [
       "30 minutes     2030\n",
       "45 minutes      624\n",
       "65 minutes      113\n",
       "120 minutes       6\n",
       "80 minutes        1\n",
       "Name: Delivery_Time, dtype: int64"
      ]
     },
     "execution_count": 43,
     "metadata": {},
     "output_type": "execute_result"
    }
   ],
   "source": [
    "df_sub['Delivery_Time'].value_counts()"
   ]
  },
  {
   "cell_type": "code",
   "execution_count": 44,
   "metadata": {},
   "outputs": [],
   "source": [
    "writer = pd.ExcelWriter('cat40.xlsx', engine='xlsxwriter')\n",
    "df_sub.to_excel(writer,sheet_name='Sheet1', index=False)\n",
    "writer.save()"
   ]
  }
 ],
 "metadata": {
  "kernelspec": {
   "display_name": "Python 3",
   "language": "python",
   "name": "python3"
  },
  "language_info": {
   "codemirror_mode": {
    "name": "ipython",
    "version": 3
   },
   "file_extension": ".py",
   "mimetype": "text/x-python",
   "name": "python",
   "nbconvert_exporter": "python",
   "pygments_lexer": "ipython3",
   "version": "3.7.4"
  },
  "toc": {
   "base_numbering": 1,
   "nav_menu": {},
   "number_sections": true,
   "sideBar": true,
   "skip_h1_title": false,
   "title_cell": "Table of Contents",
   "title_sidebar": "Contents",
   "toc_cell": false,
   "toc_position": {
    "height": "calc(100% - 180px)",
    "left": "10px",
    "top": "150px",
    "width": "264px"
   },
   "toc_section_display": true,
   "toc_window_display": true
  }
 },
 "nbformat": 4,
 "nbformat_minor": 1
}
